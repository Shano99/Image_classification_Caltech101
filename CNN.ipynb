{
 "cells": [
  {
   "cell_type": "code",
   "execution_count": 5,
   "metadata": {
    "colab": {
     "base_uri": "https://localhost:8080/",
     "height": 35
    },
    "id": "ZdUAixi8uW00",
    "outputId": "d808fe68-54aa-406a-87ff-8098977304e4"
   },
   "outputs": [
    {
     "data": {
      "text/plain": [
       "'\\nSEED Everything\\n'"
      ]
     },
     "execution_count": 5,
     "metadata": {},
     "output_type": "execute_result"
    }
   ],
   "source": [
    "import matplotlib.pyplot as plt\n",
    "import matplotlib\n",
    "import argparse\n",
    "import joblib\n",
    "import cv2\n",
    "import os\n",
    "import torch\n",
    "import numpy as np\n",
    "import torch.nn as nn\n",
    "import torch.nn.functional as F\n",
    "import torch.optim as optim\n",
    "import time\n",
    "import pickle\n",
    "import random\n",
    "import pretrainedmodels\n",
    "import torchvision\n",
    "\n",
    "matplotlib.style.use('ggplot')\n",
    "\n",
    "from imutils import paths\n",
    "from sklearn.preprocessing import LabelBinarizer\n",
    "from sklearn.model_selection import train_test_split\n",
    "from sklearn.metrics import classification_report\n",
    "from torchvision.transforms import transforms\n",
    "from torch.utils.data import DataLoader, Dataset\n",
    "from torchvision import models\n",
    "from torchsummary import summary\n",
    "# from tqdm import tqdm_notebook as tqdm\n",
    "from tqdm import tqdm\n",
    "\n",
    "'''\n",
    "SEED Everything\n",
    "'''\n",
    "def seed_everything(SEED=42):\n",
    "    random.seed(SEED)\n",
    "    np.random.seed(SEED)\n",
    "    torch.manual_seed(SEED)\n",
    "    torch.cuda.manual_seed(SEED)\n",
    "    torch.cuda.manual_seed_all(SEED)\n",
    "    # torch.backends.cudnn.deterministic = True\n",
    "    # os.environ['PYTHONHASHSEED']=str(SEED)\n",
    "    # torch.backends.cudnn.benchmark = False # as all the inputs are not of same size\n",
    "SEED=42\n",
    "seed_everything(SEED=SEED)\n",
    "'''\n",
    "SEED Everything\n",
    "'''"
   ]
  },
  {
   "cell_type": "code",
   "execution_count": 6,
   "metadata": {
    "id": "qcYJWkKSzgGd"
   },
   "outputs": [],
   "source": [
    "if torch.cuda.is_available():\n",
    "    device = 'cuda'\n",
    "else:\n",
    "    device = 'cpu'"
   ]
  },
  {
   "cell_type": "code",
   "execution_count": 14,
   "metadata": {
    "id": "yDX3ruXFub8F"
   },
   "outputs": [],
   "source": [
    "image_paths = list(paths.list_images('./data/caltech-101/101_ObjectCategories/'))"
   ]
  },
  {
   "cell_type": "code",
   "execution_count": 15,
   "metadata": {
    "id": "VZ2Zycaju-k-"
   },
   "outputs": [],
   "source": [
    "from matplotlib.pyplot import imshow \n",
    "%matplotlib inline \n",
    "data = []\n",
    "labels = []\n",
    "label_names = []\n",
    "\n",
    "for image_path in image_paths:\n",
    "    label = image_path.split(os.path.sep)[-2]\n",
    "    # print(label)\n",
    "    if label == 'BACKGROUND_Google':\n",
    "        continue\n",
    "\n",
    "    image = cv2.imread(image_path)\n",
    "    image = cv2.cvtColor(image, cv2.COLOR_BGR2RGB)\n",
    "    \n",
    "    data.append(image)\n",
    "    label_names.append(label)\n",
    "    labels.append(label)"
   ]
  },
  {
   "cell_type": "code",
   "execution_count": 16,
   "metadata": {
    "colab": {
     "base_uri": "https://localhost:8080/",
     "height": 162
    },
    "id": "bw6H-LxBx9C7",
    "outputId": "2e1002b0-c673-4471-c582-3cf1274b89d0"
   },
   "outputs": [],
   "source": [
    "# one hot encode\n",
    "lb = LabelBinarizer()\n",
    "labels = lb.fit_transform(labels)"
   ]
  },
  {
   "cell_type": "code",
   "execution_count": 17,
   "metadata": {
    "id": "uBSD_AhlbL-I"
   },
   "outputs": [],
   "source": [
    "count_arr = []\n",
    "label_arr = []\n",
    "for i in range(len(lb.classes_)):\n",
    "    count = 0\n",
    "    # print(lb.classes_[i])\n",
    "    for j in range(len(label_names)):\n",
    "        if lb.classes_[i] in label_names[j]:\n",
    "            count += 1\n",
    "    count_arr.append(count)\n",
    "    label_arr.append(lb.classes_[i])"
   ]
  },
  {
   "cell_type": "code",
   "execution_count": 18,
   "metadata": {
    "colab": {
     "base_uri": "https://localhost:8080/",
     "height": 72
    },
    "id": "E53N4GSsyHMG",
    "outputId": "70f1e88d-d5ff-472c-f579-7ce13ec8a8a4"
   },
   "outputs": [
    {
     "name": "stdout",
     "output_type": "stream",
     "text": [
      "x_train examples: 5205\n",
      "x_test examples: 1736\n",
      "x_val examples: 1736\n"
     ]
    }
   ],
   "source": [
    "(X, x_val , Y, y_val) = train_test_split(data, labels,\n",
    "                                                    test_size=0.2,\n",
    "                                                    stratify=labels,\n",
    "                                                    random_state=42)\n",
    "\n",
    "(x_train, x_test, y_train, y_test) = train_test_split(X, Y,\n",
    "                                                    test_size=0.25,\n",
    "                                                    random_state=42)\n",
    "\n",
    "# print(f\"x_train examples: {x_train.shape}\\nx_test examples: {x_test.shape}\\nx_val examples: {x_val.shape}\")\n",
    "print(f\"x_train examples: {len(x_train)}\\nx_test examples: {len(x_test)}\\nx_val examples: {len(x_val)}\")"
   ]
  },
  {
   "cell_type": "code",
   "execution_count": 19,
   "metadata": {
    "id": "tXLLMitfy4sv"
   },
   "outputs": [],
   "source": [
    "# define transforms\n",
    "train_transform = transforms.Compose(\n",
    "    [transforms.ToPILImage(),\n",
    "\t transforms.Resize((224, 224)),\n",
    "     # transforms.RandomRotation((-30, 30)),\n",
    "     # transforms.RandomHorizontalFlip(p=0.5),\n",
    "     # transforms.RandomVerticalFlip(p=0.5),\n",
    "     transforms.ToTensor(),\n",
    "     transforms.Normalize(mean=[0.485, 0.456, 0.406],\n",
    "                          std=[0.229, 0.224, 0.225])])\n",
    "val_transform = transforms.Compose(\n",
    "    [transforms.ToPILImage(),\n",
    "\t transforms.Resize((224, 224)),\n",
    "     transforms.ToTensor(),\n",
    "     transforms.Normalize(mean=[0.485, 0.456, 0.406],\n",
    "                          std=[0.229, 0.224, 0.225])])"
   ]
  },
  {
   "cell_type": "code",
   "execution_count": 20,
   "metadata": {
    "id": "mHOx0oSczACa"
   },
   "outputs": [],
   "source": [
    "# custom dataset\n",
    "class ImageDataset(Dataset):\n",
    "    def __init__(self, images, labels=None, transforms=None):\n",
    "        self.X = images\n",
    "        self.y = labels\n",
    "        self.transforms = transforms\n",
    "\n",
    "    def __len__(self):\n",
    "        return (len(self.X))\n",
    "\n",
    "    def __getitem__(self, i):\n",
    "        data = self.X[i][:]\n",
    "\n",
    "        if self.transforms:\n",
    "            data = self.transforms(data)\n",
    "\n",
    "        if self.y is not None:\n",
    "            return (data, self.y[i])\n",
    "        else:\n",
    "            return data\n",
    "\n",
    "train_data = ImageDataset(x_train, y_train, train_transform)\n",
    "val_data = ImageDataset(x_val, y_val, val_transform)\n",
    "test_data = ImageDataset(x_test, y_test, val_transform)\n",
    "\n",
    "# dataloaders\n",
    "trainloader = DataLoader(train_data, batch_size=16, shuffle=True)\n",
    "valloader = DataLoader(val_data, batch_size=16, shuffle=True)\n",
    "testloader = DataLoader(test_data, batch_size=16, shuffle=False)"
   ]
  },
  {
   "cell_type": "code",
   "execution_count": 21,
   "metadata": {},
   "outputs": [
    {
     "name": "stdout",
     "output_type": "stream",
     "text": [
      "----------------------------------------------------------------\n",
      "        Layer (type)               Output Shape         Param #\n",
      "================================================================\n",
      "            Conv2d-1         [-1, 16, 222, 222]             448\n",
      "            Conv2d-2         [-1, 32, 220, 220]           4,640\n",
      "         MaxPool2d-3         [-1, 32, 110, 110]               0\n",
      "            Conv2d-4         [-1, 64, 108, 108]          18,496\n",
      "            Conv2d-5        [-1, 128, 106, 106]          73,856\n",
      "         MaxPool2d-6          [-1, 128, 53, 53]               0\n",
      "            Linear-7                  [-1, 101]      36,314,853\n",
      "================================================================\n",
      "Total params: 36,412,293\n",
      "Trainable params: 36,412,293\n",
      "Non-trainable params: 0\n",
      "----------------------------------------------------------------\n",
      "Input size (MB): 0.57\n",
      "Forward/backward pass size (MB): 40.20\n",
      "Params size (MB): 138.90\n",
      "Estimated Total Size (MB): 179.67\n",
      "----------------------------------------------------------------\n"
     ]
    }
   ],
   "source": [
    "class CNN(nn.Module):\n",
    "    # Constructor\n",
    "    def __init__(self):\n",
    "        super(CNN, self).__init__()\n",
    "        \n",
    "        # Convolutional layers\n",
    "        self.conv1 = nn.Conv2d(3, 16, kernel_size=3, stride=1)  # input channels=3, output channels=16\n",
    "        self.conv2 = nn.Conv2d(16, 32, kernel_size=3, stride=1) # input channels=16, output channels=32\n",
    "        self.conv3 = nn.Conv2d(32, 64, kernel_size=3, stride=1) # input channels=32, output channels=64\n",
    "        self.conv4 = nn.Conv2d(64, 128, kernel_size=3, stride=1) # input channels=64, output channels=128\n",
    "        \n",
    "        # Max pooling layers\n",
    "        self.pool = nn.MaxPool2d(kernel_size=2, stride=2)\n",
    "        \n",
    "        # Fully connected (dense) layer\n",
    "        self.fc = nn.Linear(53* 53* 128, 101)  # 128 * 25 * 38 is the flattened output size after convolutions\n",
    "\n",
    "    def forward(self, x):\n",
    "        # Convolutional layers with ReLU activation and max pooling\n",
    "        x = F.relu(self.conv1(x))\n",
    "        # print(x.shape)\n",
    "        x = self.pool(F.relu(self.conv2(x)))\n",
    "        # print(x.shape)\n",
    "        x = F.relu(self.conv3(x))\n",
    "        # print(x.shape)\n",
    "        x = self.pool(F.relu(self.conv4(x)))\n",
    "        # print(x.shape)\n",
    "        \n",
    "        # Flatten the output for the fully connected layer\n",
    "        x = x.view(-1, 53* 53* 128)  # Flatten to a 1D tensor\n",
    "        # print(x.shape)\n",
    "        # Fully connected layer with softmax activation for classification\n",
    "        x = self.fc(x)\n",
    "        # print(x.shape)\n",
    "        x = F.softmax(x, dim=1)  # Apply softmax activation along the class dimension\n",
    "        # print(x.shape)\n",
    "        return x\n",
    "\n",
    "\n",
    "# Create an instance of the CNN model\n",
    "model = CNN().to(device)\n",
    "summary(model, (3, 224,224))"
   ]
  },
  {
   "cell_type": "code",
   "execution_count": 22,
   "metadata": {},
   "outputs": [
    {
     "name": "stdout",
     "output_type": "stream",
     "text": [
      "----------------------------------------------------------------\n",
      "        Layer (type)               Output Shape         Param #\n",
      "================================================================\n",
      "            Conv2d-1         [-1, 16, 222, 222]             448\n",
      "            Conv2d-2         [-1, 32, 220, 220]           4,640\n",
      "         MaxPool2d-3         [-1, 32, 110, 110]               0\n",
      "            Conv2d-4         [-1, 32, 108, 108]           9,248\n",
      "            Conv2d-5         [-1, 64, 106, 106]          18,496\n",
      "            Conv2d-6        [-1, 128, 104, 104]          73,856\n",
      "         MaxPool2d-7          [-1, 128, 52, 52]               0\n",
      "            Linear-8                  [-1, 512]     177,209,856\n",
      "           Dropout-9                  [-1, 512]               0\n",
      "           Linear-10                  [-1, 101]          51,813\n",
      "================================================================\n",
      "Total params: 177,368,357\n",
      "Trainable params: 177,368,357\n",
      "Non-trainable params: 0\n",
      "----------------------------------------------------------------\n",
      "Input size (MB): 0.57\n",
      "Forward/backward pass size (MB): 42.33\n",
      "Params size (MB): 676.61\n",
      "Estimated Total Size (MB): 719.51\n",
      "----------------------------------------------------------------\n"
     ]
    }
   ],
   "source": [
    "class CNN_with_dropout(nn.Module):\n",
    "    # Constructor\n",
    "    def __init__(self):\n",
    "        super(CNN_with_dropout, self).__init__()\n",
    "        \n",
    "        # Convolutional layers\n",
    "        self.conv1 = nn.Conv2d(3, 16, kernel_size=3, stride=1)  # input channels=3, output channels=16\n",
    "        self.conv2 = nn.Conv2d(16, 32, kernel_size=3, stride=1) # input channels=16, output channels=32\n",
    "        self.conv3 = nn.Conv2d(32, 32, kernel_size=3, stride=1) # input channels=32, output channels=64\n",
    "        self.conv4 = nn.Conv2d(32, 64, kernel_size=3, stride=1) # input channels=64, output channels=128\n",
    "        self.conv5 = nn.Conv2d(64, 128, kernel_size=3, stride=1)\n",
    "        # Max pooling layers\n",
    "        self.pool = nn.MaxPool2d(kernel_size=2, stride=2)\n",
    "        \n",
    "        # Fully connected (dense) layer\n",
    "        self.fc1 = nn.Linear(52* 52* 128, 512)  # 128 * 25 * 38 is the flattened output size after convolutions\n",
    "        self.fc2= nn.Linear(512,101)\n",
    "\n",
    "        self.dropout=nn.Dropout(0.5)\n",
    "        \n",
    "    def forward(self, x):\n",
    "        # Convolutional layers with ReLU activation and max pooling\n",
    "        x = F.relu(self.conv1(x))\n",
    "        # print(x.shape)\n",
    "        x = self.pool(F.relu(self.conv2(x)))\n",
    "        # print(x.shape)\n",
    "        x = F.relu(self.conv3(x))\n",
    "        # print(x.shape)\n",
    "        x = F.relu(self.conv4(x))\n",
    "        x = self.pool(F.relu(self.conv5(x)))\n",
    "        # print(x.shape)\n",
    "        \n",
    "        # Flatten the output for the fully connected layer\n",
    "        x = x.view(-1, 52* 52* 128)  # Flatten to a 1D tensor\n",
    "        # print(x.shape)\n",
    "        # Fully connected layer with softmax activation for classification\n",
    "        x = F.relu(self.fc1(x))\n",
    "        # print(x.shape)\n",
    "        x=self.dropout(x)\n",
    "        x=self.fc2(x)\n",
    "        x = F.softmax(x, dim=1)  # Apply softmax activation along the class dimension\n",
    "        # print(x.shape)\n",
    "        return x\n",
    "\n",
    "\n",
    "# Create an instance of the CNN model\n",
    "model = CNN_with_dropout().to(device)\n",
    "summary(model, (3, 224,224))\n",
    "\n"
   ]
  },
  {
   "cell_type": "code",
   "execution_count": 23,
   "metadata": {
    "colab": {
     "base_uri": "https://localhost:8080/",
     "height": 1000
    },
    "id": "htU-zBpKzGpo",
    "outputId": "0ce376e4-568b-4bcf-cc23-a40237033deb"
   },
   "outputs": [
    {
     "name": "stderr",
     "output_type": "stream",
     "text": [
      "C:\\Users\\Shano\\AppData\\Local\\Programs\\Python\\Python311\\Lib\\site-packages\\torchvision\\models\\_utils.py:208: UserWarning: The parameter 'pretrained' is deprecated since 0.13 and may be removed in the future, please use 'weights' instead.\n",
      "  warnings.warn(\n",
      "C:\\Users\\Shano\\AppData\\Local\\Programs\\Python\\Python311\\Lib\\site-packages\\torchvision\\models\\_utils.py:223: UserWarning: Arguments other than a weight enum or `None` for 'weights' are deprecated since 0.13 and may be removed in the future. The current behavior is equivalent to passing `weights=None`.\n",
      "  warnings.warn(msg)\n",
      "C:\\Users\\Shano\\AppData\\Local\\Programs\\Python\\Python311\\Lib\\site-packages\\torch\\nn\\functional.py:1374: UserWarning: dropout2d: Received a 2-D input to dropout2d, which is deprecated and will result in an error in a future release. To retain the behavior and silence this warning, please use dropout instead. Note that dropout2d exists to provide channel-wise dropout on inputs with 2 spatial dimensions, a channel dimension, and an optional batch dimension (i.e. 3D or 4D inputs).\n",
      "  warnings.warn(warn_msg)\n"
     ]
    },
    {
     "name": "stdout",
     "output_type": "stream",
     "text": [
      "----------------------------------------------------------------\n",
      "        Layer (type)               Output Shape         Param #\n",
      "================================================================\n",
      "            Conv2d-1         [-1, 64, 112, 112]           9,408\n",
      "       BatchNorm2d-2         [-1, 64, 112, 112]             128\n",
      "              ReLU-3         [-1, 64, 112, 112]               0\n",
      "         MaxPool2d-4           [-1, 64, 56, 56]               0\n",
      "            Conv2d-5           [-1, 64, 56, 56]          36,864\n",
      "       BatchNorm2d-6           [-1, 64, 56, 56]             128\n",
      "              ReLU-7           [-1, 64, 56, 56]               0\n",
      "            Conv2d-8           [-1, 64, 56, 56]          36,864\n",
      "       BatchNorm2d-9           [-1, 64, 56, 56]             128\n",
      "             ReLU-10           [-1, 64, 56, 56]               0\n",
      "       BasicBlock-11           [-1, 64, 56, 56]               0\n",
      "           Conv2d-12           [-1, 64, 56, 56]          36,864\n",
      "      BatchNorm2d-13           [-1, 64, 56, 56]             128\n",
      "             ReLU-14           [-1, 64, 56, 56]               0\n",
      "           Conv2d-15           [-1, 64, 56, 56]          36,864\n",
      "      BatchNorm2d-16           [-1, 64, 56, 56]             128\n",
      "             ReLU-17           [-1, 64, 56, 56]               0\n",
      "       BasicBlock-18           [-1, 64, 56, 56]               0\n",
      "           Conv2d-19           [-1, 64, 56, 56]          36,864\n",
      "      BatchNorm2d-20           [-1, 64, 56, 56]             128\n",
      "             ReLU-21           [-1, 64, 56, 56]               0\n",
      "           Conv2d-22           [-1, 64, 56, 56]          36,864\n",
      "      BatchNorm2d-23           [-1, 64, 56, 56]             128\n",
      "             ReLU-24           [-1, 64, 56, 56]               0\n",
      "       BasicBlock-25           [-1, 64, 56, 56]               0\n",
      "           Conv2d-26          [-1, 128, 28, 28]          73,728\n",
      "      BatchNorm2d-27          [-1, 128, 28, 28]             256\n",
      "             ReLU-28          [-1, 128, 28, 28]               0\n",
      "           Conv2d-29          [-1, 128, 28, 28]         147,456\n",
      "      BatchNorm2d-30          [-1, 128, 28, 28]             256\n",
      "           Conv2d-31          [-1, 128, 28, 28]           8,192\n",
      "      BatchNorm2d-32          [-1, 128, 28, 28]             256\n",
      "             ReLU-33          [-1, 128, 28, 28]               0\n",
      "       BasicBlock-34          [-1, 128, 28, 28]               0\n",
      "           Conv2d-35          [-1, 128, 28, 28]         147,456\n",
      "      BatchNorm2d-36          [-1, 128, 28, 28]             256\n",
      "             ReLU-37          [-1, 128, 28, 28]               0\n",
      "           Conv2d-38          [-1, 128, 28, 28]         147,456\n",
      "      BatchNorm2d-39          [-1, 128, 28, 28]             256\n",
      "             ReLU-40          [-1, 128, 28, 28]               0\n",
      "       BasicBlock-41          [-1, 128, 28, 28]               0\n",
      "           Conv2d-42          [-1, 128, 28, 28]         147,456\n",
      "      BatchNorm2d-43          [-1, 128, 28, 28]             256\n",
      "             ReLU-44          [-1, 128, 28, 28]               0\n",
      "           Conv2d-45          [-1, 128, 28, 28]         147,456\n",
      "      BatchNorm2d-46          [-1, 128, 28, 28]             256\n",
      "             ReLU-47          [-1, 128, 28, 28]               0\n",
      "       BasicBlock-48          [-1, 128, 28, 28]               0\n",
      "           Conv2d-49          [-1, 128, 28, 28]         147,456\n",
      "      BatchNorm2d-50          [-1, 128, 28, 28]             256\n",
      "             ReLU-51          [-1, 128, 28, 28]               0\n",
      "           Conv2d-52          [-1, 128, 28, 28]         147,456\n",
      "      BatchNorm2d-53          [-1, 128, 28, 28]             256\n",
      "             ReLU-54          [-1, 128, 28, 28]               0\n",
      "       BasicBlock-55          [-1, 128, 28, 28]               0\n",
      "           Conv2d-56          [-1, 256, 14, 14]         294,912\n",
      "      BatchNorm2d-57          [-1, 256, 14, 14]             512\n",
      "             ReLU-58          [-1, 256, 14, 14]               0\n",
      "           Conv2d-59          [-1, 256, 14, 14]         589,824\n",
      "      BatchNorm2d-60          [-1, 256, 14, 14]             512\n",
      "           Conv2d-61          [-1, 256, 14, 14]          32,768\n",
      "      BatchNorm2d-62          [-1, 256, 14, 14]             512\n",
      "             ReLU-63          [-1, 256, 14, 14]               0\n",
      "       BasicBlock-64          [-1, 256, 14, 14]               0\n",
      "           Conv2d-65          [-1, 256, 14, 14]         589,824\n",
      "      BatchNorm2d-66          [-1, 256, 14, 14]             512\n",
      "             ReLU-67          [-1, 256, 14, 14]               0\n",
      "           Conv2d-68          [-1, 256, 14, 14]         589,824\n",
      "      BatchNorm2d-69          [-1, 256, 14, 14]             512\n",
      "             ReLU-70          [-1, 256, 14, 14]               0\n",
      "       BasicBlock-71          [-1, 256, 14, 14]               0\n",
      "           Conv2d-72          [-1, 256, 14, 14]         589,824\n",
      "      BatchNorm2d-73          [-1, 256, 14, 14]             512\n",
      "             ReLU-74          [-1, 256, 14, 14]               0\n",
      "           Conv2d-75          [-1, 256, 14, 14]         589,824\n",
      "      BatchNorm2d-76          [-1, 256, 14, 14]             512\n",
      "             ReLU-77          [-1, 256, 14, 14]               0\n",
      "       BasicBlock-78          [-1, 256, 14, 14]               0\n",
      "           Conv2d-79          [-1, 256, 14, 14]         589,824\n",
      "      BatchNorm2d-80          [-1, 256, 14, 14]             512\n",
      "             ReLU-81          [-1, 256, 14, 14]               0\n",
      "           Conv2d-82          [-1, 256, 14, 14]         589,824\n",
      "      BatchNorm2d-83          [-1, 256, 14, 14]             512\n",
      "             ReLU-84          [-1, 256, 14, 14]               0\n",
      "       BasicBlock-85          [-1, 256, 14, 14]               0\n",
      "           Conv2d-86          [-1, 256, 14, 14]         589,824\n",
      "      BatchNorm2d-87          [-1, 256, 14, 14]             512\n",
      "             ReLU-88          [-1, 256, 14, 14]               0\n",
      "           Conv2d-89          [-1, 256, 14, 14]         589,824\n",
      "      BatchNorm2d-90          [-1, 256, 14, 14]             512\n",
      "             ReLU-91          [-1, 256, 14, 14]               0\n",
      "       BasicBlock-92          [-1, 256, 14, 14]               0\n",
      "           Conv2d-93          [-1, 256, 14, 14]         589,824\n",
      "      BatchNorm2d-94          [-1, 256, 14, 14]             512\n",
      "             ReLU-95          [-1, 256, 14, 14]               0\n",
      "           Conv2d-96          [-1, 256, 14, 14]         589,824\n",
      "      BatchNorm2d-97          [-1, 256, 14, 14]             512\n",
      "             ReLU-98          [-1, 256, 14, 14]               0\n",
      "       BasicBlock-99          [-1, 256, 14, 14]               0\n",
      "          Conv2d-100            [-1, 512, 7, 7]       1,179,648\n",
      "     BatchNorm2d-101            [-1, 512, 7, 7]           1,024\n",
      "            ReLU-102            [-1, 512, 7, 7]               0\n",
      "          Conv2d-103            [-1, 512, 7, 7]       2,359,296\n",
      "     BatchNorm2d-104            [-1, 512, 7, 7]           1,024\n",
      "          Conv2d-105            [-1, 512, 7, 7]         131,072\n",
      "     BatchNorm2d-106            [-1, 512, 7, 7]           1,024\n",
      "            ReLU-107            [-1, 512, 7, 7]               0\n",
      "      BasicBlock-108            [-1, 512, 7, 7]               0\n",
      "          Conv2d-109            [-1, 512, 7, 7]       2,359,296\n",
      "     BatchNorm2d-110            [-1, 512, 7, 7]           1,024\n",
      "            ReLU-111            [-1, 512, 7, 7]               0\n",
      "          Conv2d-112            [-1, 512, 7, 7]       2,359,296\n",
      "     BatchNorm2d-113            [-1, 512, 7, 7]           1,024\n",
      "            ReLU-114            [-1, 512, 7, 7]               0\n",
      "      BasicBlock-115            [-1, 512, 7, 7]               0\n",
      "          Conv2d-116            [-1, 512, 7, 7]       2,359,296\n",
      "     BatchNorm2d-117            [-1, 512, 7, 7]           1,024\n",
      "            ReLU-118            [-1, 512, 7, 7]               0\n",
      "          Conv2d-119            [-1, 512, 7, 7]       2,359,296\n",
      "     BatchNorm2d-120            [-1, 512, 7, 7]           1,024\n",
      "            ReLU-121            [-1, 512, 7, 7]               0\n",
      "      BasicBlock-122            [-1, 512, 7, 7]               0\n",
      "       Dropout2d-123                  [-1, 512]               0\n",
      "          Linear-124                  [-1, 101]          51,813\n",
      "================================================================\n",
      "Total params: 21,336,485\n",
      "Trainable params: 21,336,485\n",
      "Non-trainable params: 0\n",
      "----------------------------------------------------------------\n",
      "Input size (MB): 0.57\n",
      "Forward/backward pass size (MB): 96.28\n",
      "Params size (MB): 81.39\n",
      "Estimated Total Size (MB): 178.25\n",
      "----------------------------------------------------------------\n"
     ]
    }
   ],
   "source": [
    "class ResNet34(nn.Module):\n",
    "    def __init__(self, pretrained):\n",
    "        super(ResNet34, self).__init__()\n",
    "        if pretrained is True:\n",
    "            self.model = pretrainedmodels.__dict__['resnet34'](pretrained='imagenet')\n",
    "        else:\n",
    "            self.model = pretrainedmodels.__dict__['resnet34'](pretrained=None)\n",
    "\n",
    "        self.l0 = nn.Linear(512, len(lb.classes_))\n",
    "        self.dropout = nn.Dropout2d(0.4)\n",
    "\n",
    "    def forward(self, x):\n",
    "        # get the batch size only, ignore (c, h, w)\n",
    "        batch, _, _, _ = x.shape\n",
    "        x = self.model.features(x)\n",
    "        x = F.adaptive_avg_pool2d(x, 1).reshape(batch, -1)\n",
    "        x = self.dropout(x)\n",
    "        l0 = self.l0(x)\n",
    "        return l0\n",
    "\n",
    "# Create an instance of the resnet model\n",
    "model = ResNet34(pretrained=True).to(device)\n",
    "summary(model, (3, 224,224))"
   ]
  },
  {
   "cell_type": "code",
   "execution_count": 26,
   "metadata": {},
   "outputs": [],
   "source": [
    "# loss function\n",
    "criterion = nn.CrossEntropyLoss()\n",
    "\n",
    "# optimizer = optim.Adam(model.parameters(), lr=1e-4)\n",
    "# optimizer = optim.SGD(model.parameters(), lr=1e-3,momentum=0.9,weight_decay=1e-3)\n",
    "# optimizer = optim.SGD(model.parameters())"
   ]
  },
  {
   "cell_type": "code",
   "execution_count": 49,
   "metadata": {},
   "outputs": [
    {
     "name": "stdout",
     "output_type": "stream",
     "text": [
      "lr:  0.01\n",
      "weight decay: 0.001\n",
      "Epoch 1 of 10\n",
      "Training\n"
     ]
    },
    {
     "name": "stderr",
     "output_type": "stream",
     "text": [
      "326it [20:50,  3.83s/it]                                                                                               \n"
     ]
    },
    {
     "name": "stdout",
     "output_type": "stream",
     "text": [
      "Train Loss: 0.2848, Train Acc: 9.20\n",
      "Validating\n"
     ]
    },
    {
     "name": "stderr",
     "output_type": "stream",
     "text": [
      "109it [03:00,  1.66s/it]                                                                                               \n"
     ]
    },
    {
     "name": "stdout",
     "output_type": "stream",
     "text": [
      "Val Loss: 0.2851, Val Acc: 9.22\n",
      "Epoch 2 of 10\n",
      "Training\n"
     ]
    },
    {
     "name": "stderr",
     "output_type": "stream",
     "text": [
      "326it [20:39,  3.80s/it]                                                                                               \n"
     ]
    },
    {
     "name": "stdout",
     "output_type": "stream",
     "text": [
      "Train Loss: 0.2842, Train Acc: 9.39\n",
      "Validating\n"
     ]
    },
    {
     "name": "stderr",
     "output_type": "stream",
     "text": [
      "109it [01:42,  1.07it/s]                                                                                               \n"
     ]
    },
    {
     "name": "stdout",
     "output_type": "stream",
     "text": [
      "Val Loss: 0.2851, Val Acc: 9.22\n",
      "Epoch 3 of 10\n",
      "Training\n"
     ]
    },
    {
     "name": "stderr",
     "output_type": "stream",
     "text": [
      "326it [20:36,  3.79s/it]                                                                                               \n"
     ]
    },
    {
     "name": "stdout",
     "output_type": "stream",
     "text": [
      "Train Loss: 0.2842, Train Acc: 9.39\n",
      "Validating\n"
     ]
    },
    {
     "name": "stderr",
     "output_type": "stream",
     "text": [
      "109it [01:41,  1.07it/s]                                                                                               \n"
     ]
    },
    {
     "name": "stdout",
     "output_type": "stream",
     "text": [
      "Val Loss: 0.2851, Val Acc: 9.22\n",
      "Epoch 4 of 10\n",
      "Training\n"
     ]
    },
    {
     "name": "stderr",
     "output_type": "stream",
     "text": [
      "326it [20:35,  3.79s/it]                                                                                               \n"
     ]
    },
    {
     "name": "stdout",
     "output_type": "stream",
     "text": [
      "Train Loss: 0.2842, Train Acc: 9.39\n",
      "Validating\n"
     ]
    },
    {
     "name": "stderr",
     "output_type": "stream",
     "text": [
      "109it [01:41,  1.08it/s]                                                                                               \n"
     ]
    },
    {
     "name": "stdout",
     "output_type": "stream",
     "text": [
      "Val Loss: 0.2851, Val Acc: 9.22\n",
      "Epoch 5 of 10\n",
      "Training\n"
     ]
    },
    {
     "name": "stderr",
     "output_type": "stream",
     "text": [
      "326it [20:34,  3.79s/it]                                                                                               \n"
     ]
    },
    {
     "name": "stdout",
     "output_type": "stream",
     "text": [
      "Train Loss: 0.2842, Train Acc: 9.39\n",
      "Validating\n"
     ]
    },
    {
     "name": "stderr",
     "output_type": "stream",
     "text": [
      "109it [01:41,  1.08it/s]                                                                                               \n"
     ]
    },
    {
     "name": "stdout",
     "output_type": "stream",
     "text": [
      "Val Loss: 0.2850, Val Acc: 9.22\n",
      "Epoch 6 of 10\n",
      "Training\n"
     ]
    },
    {
     "name": "stderr",
     "output_type": "stream",
     "text": [
      "326it [20:34,  3.79s/it]                                                                                               \n"
     ]
    },
    {
     "name": "stdout",
     "output_type": "stream",
     "text": [
      "Train Loss: 0.2842, Train Acc: 9.39\n",
      "Validating\n"
     ]
    },
    {
     "name": "stderr",
     "output_type": "stream",
     "text": [
      "109it [01:40,  1.09it/s]                                                                                               \n"
     ]
    },
    {
     "name": "stdout",
     "output_type": "stream",
     "text": [
      "Val Loss: 0.2851, Val Acc: 9.22\n",
      "Epoch 7 of 10\n",
      "Training\n"
     ]
    },
    {
     "name": "stderr",
     "output_type": "stream",
     "text": [
      "326it [20:36,  3.79s/it]                                                                                               \n"
     ]
    },
    {
     "name": "stdout",
     "output_type": "stream",
     "text": [
      "Train Loss: 0.2835, Train Acc: 10.57\n",
      "Validating\n"
     ]
    },
    {
     "name": "stderr",
     "output_type": "stream",
     "text": [
      "109it [01:41,  1.07it/s]                                                                                               \n"
     ]
    },
    {
     "name": "stdout",
     "output_type": "stream",
     "text": [
      "Val Loss: 0.2806, Val Acc: 16.42\n",
      "Epoch 8 of 10\n",
      "Training\n"
     ]
    },
    {
     "name": "stderr",
     "output_type": "stream",
     "text": [
      "326it [20:33,  3.78s/it]                                                                                               \n"
     ]
    },
    {
     "name": "stdout",
     "output_type": "stream",
     "text": [
      "Train Loss: 0.2796, Train Acc: 16.75\n",
      "Validating\n"
     ]
    },
    {
     "name": "stderr",
     "output_type": "stream",
     "text": [
      "109it [01:41,  1.07it/s]                                                                                               \n"
     ]
    },
    {
     "name": "stdout",
     "output_type": "stream",
     "text": [
      "Val Loss: 0.2807, Val Acc: 16.13\n",
      "Epoch 9 of 10\n",
      "Training\n"
     ]
    },
    {
     "name": "stderr",
     "output_type": "stream",
     "text": [
      "326it [20:34,  3.79s/it]                                                                                               \n"
     ]
    },
    {
     "name": "stdout",
     "output_type": "stream",
     "text": [
      "Train Loss: 0.2804, Train Acc: 15.43\n",
      "Validating\n"
     ]
    },
    {
     "name": "stderr",
     "output_type": "stream",
     "text": [
      "109it [01:41,  1.07it/s]                                                                                               \n"
     ]
    },
    {
     "name": "stdout",
     "output_type": "stream",
     "text": [
      "Val Loss: 0.2812, Val Acc: 15.38\n",
      "Epoch 10 of 10\n",
      "Training\n"
     ]
    },
    {
     "name": "stderr",
     "output_type": "stream",
     "text": [
      "326it [20:33,  3.78s/it]                                                                                               \n"
     ]
    },
    {
     "name": "stdout",
     "output_type": "stream",
     "text": [
      "Train Loss: 0.2813, Train Acc: 14.02\n",
      "Validating\n"
     ]
    },
    {
     "name": "stderr",
     "output_type": "stream",
     "text": [
      "109it [01:41,  1.08it/s]                                                                                               \n"
     ]
    },
    {
     "name": "stdout",
     "output_type": "stream",
     "text": [
      "Val Loss: 0.2805, Val Acc: 16.42\n",
      "224.40103104114533 minutes\n",
      "lr:  0.01\n",
      "weight decay: 0.0001\n",
      "Epoch 1 of 10\n",
      "Training\n"
     ]
    },
    {
     "name": "stderr",
     "output_type": "stream",
     "text": [
      "326it [19:16,  3.55s/it]                                                                                               \n"
     ]
    },
    {
     "name": "stdout",
     "output_type": "stream",
     "text": [
      "Train Loss: 0.2847, Train Acc: 9.32\n",
      "Validating\n"
     ]
    },
    {
     "name": "stderr",
     "output_type": "stream",
     "text": [
      "109it [01:47,  1.02it/s]                                                                                               \n"
     ]
    },
    {
     "name": "stdout",
     "output_type": "stream",
     "text": [
      "Val Loss: 0.2850, Val Acc: 9.22\n",
      "Epoch 2 of 10\n",
      "Training\n"
     ]
    },
    {
     "name": "stderr",
     "output_type": "stream",
     "text": [
      "326it [23:18,  4.29s/it]                                                                                               \n"
     ]
    },
    {
     "name": "stdout",
     "output_type": "stream",
     "text": [
      "Train Loss: 0.2842, Train Acc: 9.39\n",
      "Validating\n"
     ]
    },
    {
     "name": "stderr",
     "output_type": "stream",
     "text": [
      "109it [04:38,  2.55s/it]                                                                                               \n"
     ]
    },
    {
     "name": "stdout",
     "output_type": "stream",
     "text": [
      "Val Loss: 0.2850, Val Acc: 9.22\n",
      "Epoch 3 of 10\n",
      "Training\n"
     ]
    },
    {
     "name": "stderr",
     "output_type": "stream",
     "text": [
      "326it [19:29,  3.59s/it]                                                                                               \n"
     ]
    },
    {
     "name": "stdout",
     "output_type": "stream",
     "text": [
      "Train Loss: 0.2842, Train Acc: 9.39\n",
      "Validating\n"
     ]
    },
    {
     "name": "stderr",
     "output_type": "stream",
     "text": [
      "109it [02:05,  1.15s/it]                                                                                               \n"
     ]
    },
    {
     "name": "stdout",
     "output_type": "stream",
     "text": [
      "Val Loss: 0.2850, Val Acc: 9.22\n",
      "Epoch 4 of 10\n",
      "Training\n"
     ]
    },
    {
     "name": "stderr",
     "output_type": "stream",
     "text": [
      "326it [19:27,  3.58s/it]                                                                                               \n"
     ]
    },
    {
     "name": "stdout",
     "output_type": "stream",
     "text": [
      "Train Loss: 0.2842, Train Acc: 9.39\n",
      "Validating\n"
     ]
    },
    {
     "name": "stderr",
     "output_type": "stream",
     "text": [
      "109it [03:25,  1.89s/it]                                                                                               \n"
     ]
    },
    {
     "name": "stdout",
     "output_type": "stream",
     "text": [
      "Val Loss: 0.2850, Val Acc: 9.22\n",
      "Epoch 5 of 10\n",
      "Training\n"
     ]
    },
    {
     "name": "stderr",
     "output_type": "stream",
     "text": [
      "326it [19:17,  3.55s/it]                                                                                               \n"
     ]
    },
    {
     "name": "stdout",
     "output_type": "stream",
     "text": [
      "Train Loss: 0.2842, Train Acc: 9.39\n",
      "Validating\n"
     ]
    },
    {
     "name": "stderr",
     "output_type": "stream",
     "text": [
      "109it [01:47,  1.02it/s]                                                                                               \n"
     ]
    },
    {
     "name": "stdout",
     "output_type": "stream",
     "text": [
      "Val Loss: 0.2850, Val Acc: 9.22\n",
      "Epoch 6 of 10\n",
      "Training\n"
     ]
    },
    {
     "name": "stderr",
     "output_type": "stream",
     "text": [
      "326it [19:16,  3.55s/it]                                                                                               \n"
     ]
    },
    {
     "name": "stdout",
     "output_type": "stream",
     "text": [
      "Train Loss: 0.2842, Train Acc: 9.39\n",
      "Validating\n"
     ]
    },
    {
     "name": "stderr",
     "output_type": "stream",
     "text": [
      "109it [01:46,  1.03it/s]                                                                                               \n"
     ]
    },
    {
     "name": "stdout",
     "output_type": "stream",
     "text": [
      "Val Loss: 0.2850, Val Acc: 9.22\n",
      "Epoch 7 of 10\n",
      "Training\n"
     ]
    },
    {
     "name": "stderr",
     "output_type": "stream",
     "text": [
      "326it [19:16,  3.55s/it]                                                                                               \n"
     ]
    },
    {
     "name": "stdout",
     "output_type": "stream",
     "text": [
      "Train Loss: 0.2842, Train Acc: 9.39\n",
      "Validating\n"
     ]
    },
    {
     "name": "stderr",
     "output_type": "stream",
     "text": [
      "109it [01:45,  1.04it/s]                                                                                               \n"
     ]
    },
    {
     "name": "stdout",
     "output_type": "stream",
     "text": [
      "Val Loss: 0.2850, Val Acc: 9.22\n",
      "Epoch 8 of 10\n",
      "Training\n"
     ]
    },
    {
     "name": "stderr",
     "output_type": "stream",
     "text": [
      "326it [19:15,  3.54s/it]                                                                                               \n"
     ]
    },
    {
     "name": "stdout",
     "output_type": "stream",
     "text": [
      "Train Loss: 0.2842, Train Acc: 9.39\n",
      "Validating\n"
     ]
    },
    {
     "name": "stderr",
     "output_type": "stream",
     "text": [
      "109it [01:45,  1.03it/s]                                                                                               \n"
     ]
    },
    {
     "name": "stdout",
     "output_type": "stream",
     "text": [
      "Val Loss: 0.2850, Val Acc: 9.22\n",
      "Epoch 9 of 10\n",
      "Training\n"
     ]
    },
    {
     "name": "stderr",
     "output_type": "stream",
     "text": [
      "326it [19:14,  3.54s/it]                                                                                               \n"
     ]
    },
    {
     "name": "stdout",
     "output_type": "stream",
     "text": [
      "Train Loss: 0.2842, Train Acc: 9.39\n",
      "Validating\n"
     ]
    },
    {
     "name": "stderr",
     "output_type": "stream",
     "text": [
      "109it [01:46,  1.02it/s]                                                                                               \n"
     ]
    },
    {
     "name": "stdout",
     "output_type": "stream",
     "text": [
      "Val Loss: 0.2850, Val Acc: 9.22\n",
      "Epoch 10 of 10\n",
      "Training\n"
     ]
    },
    {
     "name": "stderr",
     "output_type": "stream",
     "text": [
      "326it [19:14,  3.54s/it]                                                                                               \n"
     ]
    },
    {
     "name": "stdout",
     "output_type": "stream",
     "text": [
      "Train Loss: 0.2842, Train Acc: 9.39\n",
      "Validating\n"
     ]
    },
    {
     "name": "stderr",
     "output_type": "stream",
     "text": [
      "109it [01:46,  1.02it/s]                                                                                               \n"
     ]
    },
    {
     "name": "stdout",
     "output_type": "stream",
     "text": [
      "Val Loss: 0.2851, Val Acc: 9.22\n",
      "219.73038775523503 minutes\n",
      "lr:  0.01\n",
      "weight decay: 1e-05\n",
      "Epoch 1 of 10\n",
      "Training\n"
     ]
    },
    {
     "name": "stderr",
     "output_type": "stream",
     "text": [
      "326it [20:33,  3.78s/it]                                                                                               \n"
     ]
    },
    {
     "name": "stdout",
     "output_type": "stream",
     "text": [
      "Train Loss: 0.2826, Train Acc: 12.14\n",
      "Validating\n"
     ]
    },
    {
     "name": "stderr",
     "output_type": "stream",
     "text": [
      "109it [01:41,  1.07it/s]                                                                                               \n"
     ]
    },
    {
     "name": "stdout",
     "output_type": "stream",
     "text": [
      "Val Loss: 0.2850, Val Acc: 9.22\n",
      "Epoch 2 of 10\n",
      "Training\n"
     ]
    },
    {
     "name": "stderr",
     "output_type": "stream",
     "text": [
      "326it [20:35,  3.79s/it]                                                                                               \n"
     ]
    },
    {
     "name": "stdout",
     "output_type": "stream",
     "text": [
      "Train Loss: 0.2843, Train Acc: 9.28\n",
      "Validating\n"
     ]
    },
    {
     "name": "stderr",
     "output_type": "stream",
     "text": [
      "109it [01:41,  1.07it/s]                                                                                               \n"
     ]
    },
    {
     "name": "stdout",
     "output_type": "stream",
     "text": [
      "Val Loss: 0.2850, Val Acc: 9.22\n",
      "Epoch 3 of 10\n",
      "Training\n"
     ]
    },
    {
     "name": "stderr",
     "output_type": "stream",
     "text": [
      "326it [20:34,  3.79s/it]                                                                                               \n"
     ]
    },
    {
     "name": "stdout",
     "output_type": "stream",
     "text": [
      "Train Loss: 0.2843, Train Acc: 9.28\n",
      "Validating\n"
     ]
    },
    {
     "name": "stderr",
     "output_type": "stream",
     "text": [
      "109it [01:41,  1.08it/s]                                                                                               \n"
     ]
    },
    {
     "name": "stdout",
     "output_type": "stream",
     "text": [
      "Val Loss: 0.2850, Val Acc: 9.22\n",
      "Epoch 4 of 10\n",
      "Training\n"
     ]
    },
    {
     "name": "stderr",
     "output_type": "stream",
     "text": [
      "326it [20:35,  3.79s/it]                                                                                               \n"
     ]
    },
    {
     "name": "stdout",
     "output_type": "stream",
     "text": [
      "Train Loss: 0.2843, Train Acc: 9.28\n",
      "Validating\n"
     ]
    },
    {
     "name": "stderr",
     "output_type": "stream",
     "text": [
      "109it [01:41,  1.07it/s]                                                                                               \n"
     ]
    },
    {
     "name": "stdout",
     "output_type": "stream",
     "text": [
      "Val Loss: 0.2850, Val Acc: 9.22\n",
      "Epoch 5 of 10\n",
      "Training\n"
     ]
    },
    {
     "name": "stderr",
     "output_type": "stream",
     "text": [
      "326it [20:34,  3.79s/it]                                                                                               \n"
     ]
    },
    {
     "name": "stdout",
     "output_type": "stream",
     "text": [
      "Train Loss: 0.2843, Train Acc: 9.28\n",
      "Validating\n"
     ]
    },
    {
     "name": "stderr",
     "output_type": "stream",
     "text": [
      "109it [01:41,  1.07it/s]                                                                                               \n"
     ]
    },
    {
     "name": "stdout",
     "output_type": "stream",
     "text": [
      "Val Loss: 0.2850, Val Acc: 9.22\n",
      "Epoch 6 of 10\n",
      "Training\n"
     ]
    },
    {
     "name": "stderr",
     "output_type": "stream",
     "text": [
      "326it [20:35,  3.79s/it]                                                                                               \n"
     ]
    },
    {
     "name": "stdout",
     "output_type": "stream",
     "text": [
      "Train Loss: 0.2843, Train Acc: 9.28\n",
      "Validating\n"
     ]
    },
    {
     "name": "stderr",
     "output_type": "stream",
     "text": [
      "109it [01:40,  1.08it/s]                                                                                               \n"
     ]
    },
    {
     "name": "stdout",
     "output_type": "stream",
     "text": [
      "Val Loss: 0.2850, Val Acc: 9.22\n",
      "Epoch 7 of 10\n",
      "Training\n"
     ]
    },
    {
     "name": "stderr",
     "output_type": "stream",
     "text": [
      "326it [20:33,  3.78s/it]                                                                                               \n"
     ]
    },
    {
     "name": "stdout",
     "output_type": "stream",
     "text": [
      "Train Loss: 0.2843, Train Acc: 9.28\n",
      "Validating\n"
     ]
    },
    {
     "name": "stderr",
     "output_type": "stream",
     "text": [
      "109it [01:41,  1.08it/s]                                                                                               \n"
     ]
    },
    {
     "name": "stdout",
     "output_type": "stream",
     "text": [
      "Val Loss: 0.2851, Val Acc: 9.22\n",
      "Epoch 8 of 10\n",
      "Training\n"
     ]
    },
    {
     "name": "stderr",
     "output_type": "stream",
     "text": [
      "326it [20:33,  3.78s/it]                                                                                               \n"
     ]
    },
    {
     "name": "stdout",
     "output_type": "stream",
     "text": [
      "Train Loss: 0.2843, Train Acc: 9.28\n",
      "Validating\n"
     ]
    },
    {
     "name": "stderr",
     "output_type": "stream",
     "text": [
      "109it [01:42,  1.06it/s]                                                                                               \n"
     ]
    },
    {
     "name": "stdout",
     "output_type": "stream",
     "text": [
      "Val Loss: 0.2850, Val Acc: 9.22\n",
      "Epoch 9 of 10\n",
      "Training\n"
     ]
    },
    {
     "name": "stderr",
     "output_type": "stream",
     "text": [
      "326it [20:33,  3.78s/it]                                                                                               \n"
     ]
    },
    {
     "name": "stdout",
     "output_type": "stream",
     "text": [
      "Train Loss: 0.2843, Train Acc: 9.28\n",
      "Validating\n"
     ]
    },
    {
     "name": "stderr",
     "output_type": "stream",
     "text": [
      "109it [01:41,  1.07it/s]                                                                                               \n"
     ]
    },
    {
     "name": "stdout",
     "output_type": "stream",
     "text": [
      "Val Loss: 0.2851, Val Acc: 9.22\n",
      "Epoch 10 of 10\n",
      "Training\n"
     ]
    },
    {
     "name": "stderr",
     "output_type": "stream",
     "text": [
      "326it [20:34,  3.79s/it]                                                                                               \n"
     ]
    },
    {
     "name": "stdout",
     "output_type": "stream",
     "text": [
      "Train Loss: 0.2843, Train Acc: 9.28\n",
      "Validating\n"
     ]
    },
    {
     "name": "stderr",
     "output_type": "stream",
     "text": [
      "109it [01:41,  1.07it/s]                                                                                               \n"
     ]
    },
    {
     "name": "stdout",
     "output_type": "stream",
     "text": [
      "Val Loss: 0.2850, Val Acc: 9.22\n",
      "222.67456483840942 minutes\n",
      "lr:  0.001\n",
      "weight decay: 0.001\n",
      "Epoch 1 of 10\n",
      "Training\n"
     ]
    },
    {
     "name": "stderr",
     "output_type": "stream",
     "text": [
      "326it [19:12,  3.53s/it]                                                                                               \n"
     ]
    },
    {
     "name": "stdout",
     "output_type": "stream",
     "text": [
      "Train Loss: 0.2845, Train Acc: 10.82\n",
      "Validating\n"
     ]
    },
    {
     "name": "stderr",
     "output_type": "stream",
     "text": [
      "109it [01:47,  1.01it/s]                                                                                               \n"
     ]
    },
    {
     "name": "stdout",
     "output_type": "stream",
     "text": [
      "Val Loss: 0.2817, Val Acc: 14.80\n",
      "Epoch 2 of 10\n",
      "Training\n"
     ]
    },
    {
     "name": "stderr",
     "output_type": "stream",
     "text": [
      "326it [19:13,  3.54s/it]                                                                                               \n"
     ]
    },
    {
     "name": "stdout",
     "output_type": "stream",
     "text": [
      "Train Loss: 0.2797, Train Acc: 16.62\n",
      "Validating\n"
     ]
    },
    {
     "name": "stderr",
     "output_type": "stream",
     "text": [
      "109it [01:46,  1.02it/s]                                                                                               \n"
     ]
    },
    {
     "name": "stdout",
     "output_type": "stream",
     "text": [
      "Val Loss: 0.2801, Val Acc: 17.28\n",
      "Epoch 3 of 10\n",
      "Training\n"
     ]
    },
    {
     "name": "stderr",
     "output_type": "stream",
     "text": [
      "326it [19:16,  3.55s/it]                                                                                               \n"
     ]
    },
    {
     "name": "stdout",
     "output_type": "stream",
     "text": [
      "Train Loss: 0.2792, Train Acc: 17.62\n",
      "Validating\n"
     ]
    },
    {
     "name": "stderr",
     "output_type": "stream",
     "text": [
      "109it [01:46,  1.03it/s]                                                                                               \n"
     ]
    },
    {
     "name": "stdout",
     "output_type": "stream",
     "text": [
      "Val Loss: 0.2798, Val Acc: 17.57\n",
      "Epoch 4 of 10\n",
      "Training\n"
     ]
    },
    {
     "name": "stderr",
     "output_type": "stream",
     "text": [
      "326it [19:16,  3.55s/it]                                                                                               \n"
     ]
    },
    {
     "name": "stdout",
     "output_type": "stream",
     "text": [
      "Train Loss: 0.2788, Train Acc: 18.00\n",
      "Validating\n"
     ]
    },
    {
     "name": "stderr",
     "output_type": "stream",
     "text": [
      "109it [01:46,  1.02it/s]                                                                                               \n"
     ]
    },
    {
     "name": "stdout",
     "output_type": "stream",
     "text": [
      "Val Loss: 0.2796, Val Acc: 17.91\n",
      "Epoch 5 of 10\n",
      "Training\n"
     ]
    },
    {
     "name": "stderr",
     "output_type": "stream",
     "text": [
      "326it [19:14,  3.54s/it]                                                                                               \n"
     ]
    },
    {
     "name": "stdout",
     "output_type": "stream",
     "text": [
      "Train Loss: 0.2787, Train Acc: 18.33\n",
      "Validating\n"
     ]
    },
    {
     "name": "stderr",
     "output_type": "stream",
     "text": [
      "109it [01:46,  1.02it/s]                                                                                               \n"
     ]
    },
    {
     "name": "stdout",
     "output_type": "stream",
     "text": [
      "Val Loss: 0.2797, Val Acc: 17.91\n",
      "Epoch 6 of 10\n",
      "Training\n"
     ]
    },
    {
     "name": "stderr",
     "output_type": "stream",
     "text": [
      "326it [19:13,  3.54s/it]                                                                                               \n"
     ]
    },
    {
     "name": "stdout",
     "output_type": "stream",
     "text": [
      "Train Loss: 0.2786, Train Acc: 18.44\n",
      "Validating\n"
     ]
    },
    {
     "name": "stderr",
     "output_type": "stream",
     "text": [
      "109it [01:46,  1.02it/s]                                                                                               \n"
     ]
    },
    {
     "name": "stdout",
     "output_type": "stream",
     "text": [
      "Val Loss: 0.2796, Val Acc: 17.97\n",
      "Epoch 7 of 10\n",
      "Training\n"
     ]
    },
    {
     "name": "stderr",
     "output_type": "stream",
     "text": [
      "326it [19:12,  3.54s/it]                                                                                               \n"
     ]
    },
    {
     "name": "stdout",
     "output_type": "stream",
     "text": [
      "Train Loss: 0.2774, Train Acc: 20.42\n",
      "Validating\n"
     ]
    },
    {
     "name": "stderr",
     "output_type": "stream",
     "text": [
      "109it [01:46,  1.02it/s]                                                                                               \n"
     ]
    },
    {
     "name": "stdout",
     "output_type": "stream",
     "text": [
      "Val Loss: 0.2761, Val Acc: 23.85\n",
      "Epoch 8 of 10\n",
      "Training\n"
     ]
    },
    {
     "name": "stderr",
     "output_type": "stream",
     "text": [
      "326it [19:16,  3.55s/it]                                                                                               \n"
     ]
    },
    {
     "name": "stdout",
     "output_type": "stream",
     "text": [
      "Train Loss: 0.2747, Train Acc: 24.78\n",
      "Validating\n"
     ]
    },
    {
     "name": "stderr",
     "output_type": "stream",
     "text": [
      "109it [01:46,  1.02it/s]                                                                                               \n"
     ]
    },
    {
     "name": "stdout",
     "output_type": "stream",
     "text": [
      "Val Loss: 0.2762, Val Acc: 23.33\n",
      "Epoch 9 of 10\n",
      "Training\n"
     ]
    },
    {
     "name": "stderr",
     "output_type": "stream",
     "text": [
      "326it [19:14,  3.54s/it]                                                                                               \n"
     ]
    },
    {
     "name": "stdout",
     "output_type": "stream",
     "text": [
      "Train Loss: 0.2744, Train Acc: 25.03\n",
      "Validating\n"
     ]
    },
    {
     "name": "stderr",
     "output_type": "stream",
     "text": [
      "109it [01:46,  1.02it/s]                                                                                               \n"
     ]
    },
    {
     "name": "stdout",
     "output_type": "stream",
     "text": [
      "Val Loss: 0.2757, Val Acc: 24.19\n",
      "Epoch 10 of 10\n",
      "Training\n"
     ]
    },
    {
     "name": "stderr",
     "output_type": "stream",
     "text": [
      "326it [19:14,  3.54s/it]                                                                                               \n"
     ]
    },
    {
     "name": "stdout",
     "output_type": "stream",
     "text": [
      "Train Loss: 0.2744, Train Acc: 25.19\n",
      "Validating\n"
     ]
    },
    {
     "name": "stderr",
     "output_type": "stream",
     "text": [
      "109it [01:46,  1.02it/s]                                                                                               \n"
     ]
    },
    {
     "name": "stdout",
     "output_type": "stream",
     "text": [
      "Val Loss: 0.2758, Val Acc: 23.91\n",
      "210.24288585980733 minutes\n",
      "lr:  0.001\n",
      "weight decay: 0.0001\n",
      "Epoch 1 of 10\n",
      "Training\n"
     ]
    },
    {
     "name": "stderr",
     "output_type": "stream",
     "text": [
      "326it [20:36,  3.79s/it]                                                                                               \n"
     ]
    },
    {
     "name": "stdout",
     "output_type": "stream",
     "text": [
      "Train Loss: 0.2862, Train Acc: 10.55\n",
      "Validating\n"
     ]
    },
    {
     "name": "stderr",
     "output_type": "stream",
     "text": [
      "109it [01:42,  1.07it/s]                                                                                               \n"
     ]
    },
    {
     "name": "stdout",
     "output_type": "stream",
     "text": [
      "Val Loss: 0.2818, Val Acc: 16.07\n",
      "Epoch 2 of 10\n",
      "Training\n"
     ]
    },
    {
     "name": "stderr",
     "output_type": "stream",
     "text": [
      "326it [20:37,  3.80s/it]                                                                                               \n"
     ]
    },
    {
     "name": "stdout",
     "output_type": "stream",
     "text": [
      "Train Loss: 0.2798, Train Acc: 16.52\n",
      "Validating\n"
     ]
    },
    {
     "name": "stderr",
     "output_type": "stream",
     "text": [
      "109it [01:49,  1.00s/it]                                                                                               \n"
     ]
    },
    {
     "name": "stdout",
     "output_type": "stream",
     "text": [
      "Val Loss: 0.2804, Val Acc: 16.65\n",
      "Epoch 3 of 10\n",
      "Training\n"
     ]
    },
    {
     "name": "stderr",
     "output_type": "stream",
     "text": [
      "326it [20:37,  3.79s/it]                                                                                               \n"
     ]
    },
    {
     "name": "stdout",
     "output_type": "stream",
     "text": [
      "Train Loss: 0.2795, Train Acc: 16.96\n",
      "Validating\n"
     ]
    },
    {
     "name": "stderr",
     "output_type": "stream",
     "text": [
      "109it [01:41,  1.07it/s]                                                                                               \n"
     ]
    },
    {
     "name": "stdout",
     "output_type": "stream",
     "text": [
      "Val Loss: 0.2802, Val Acc: 16.82\n",
      "Epoch 4 of 10\n",
      "Training\n"
     ]
    },
    {
     "name": "stderr",
     "output_type": "stream",
     "text": [
      "326it [20:38,  3.80s/it]                                                                                               \n"
     ]
    },
    {
     "name": "stdout",
     "output_type": "stream",
     "text": [
      "Train Loss: 0.2792, Train Acc: 17.27\n",
      "Validating\n"
     ]
    },
    {
     "name": "stderr",
     "output_type": "stream",
     "text": [
      "109it [01:42,  1.07it/s]                                                                                               \n"
     ]
    },
    {
     "name": "stdout",
     "output_type": "stream",
     "text": [
      "Val Loss: 0.2801, Val Acc: 17.05\n",
      "Epoch 5 of 10\n",
      "Training\n"
     ]
    },
    {
     "name": "stderr",
     "output_type": "stream",
     "text": [
      "326it [20:36,  3.79s/it]                                                                                               \n"
     ]
    },
    {
     "name": "stdout",
     "output_type": "stream",
     "text": [
      "Train Loss: 0.2791, Train Acc: 17.50\n",
      "Validating\n"
     ]
    },
    {
     "name": "stderr",
     "output_type": "stream",
     "text": [
      "109it [01:41,  1.07it/s]                                                                                               \n"
     ]
    },
    {
     "name": "stdout",
     "output_type": "stream",
     "text": [
      "Val Loss: 0.2803, Val Acc: 16.53\n",
      "Epoch 6 of 10\n",
      "Training\n"
     ]
    },
    {
     "name": "stderr",
     "output_type": "stream",
     "text": [
      "326it [20:37,  3.80s/it]                                                                                               \n"
     ]
    },
    {
     "name": "stdout",
     "output_type": "stream",
     "text": [
      "Train Loss: 0.2779, Train Acc: 19.67\n",
      "Validating\n"
     ]
    },
    {
     "name": "stderr",
     "output_type": "stream",
     "text": [
      "109it [01:41,  1.08it/s]                                                                                               \n"
     ]
    },
    {
     "name": "stdout",
     "output_type": "stream",
     "text": [
      "Val Loss: 0.2772, Val Acc: 21.66\n",
      "Epoch 7 of 10\n",
      "Training\n"
     ]
    },
    {
     "name": "stderr",
     "output_type": "stream",
     "text": [
      "326it [20:38,  3.80s/it]                                                                                               \n"
     ]
    },
    {
     "name": "stdout",
     "output_type": "stream",
     "text": [
      "Train Loss: 0.2757, Train Acc: 23.25\n",
      "Validating\n"
     ]
    },
    {
     "name": "stderr",
     "output_type": "stream",
     "text": [
      "109it [01:41,  1.07it/s]                                                                                               \n"
     ]
    },
    {
     "name": "stdout",
     "output_type": "stream",
     "text": [
      "Val Loss: 0.2768, Val Acc: 22.29\n",
      "Epoch 8 of 10\n",
      "Training\n"
     ]
    },
    {
     "name": "stderr",
     "output_type": "stream",
     "text": [
      "326it [20:37,  3.80s/it]                                                                                               \n"
     ]
    },
    {
     "name": "stdout",
     "output_type": "stream",
     "text": [
      "Train Loss: 0.2754, Train Acc: 23.71\n",
      "Validating\n"
     ]
    },
    {
     "name": "stderr",
     "output_type": "stream",
     "text": [
      "109it [01:42,  1.07it/s]                                                                                               \n"
     ]
    },
    {
     "name": "stdout",
     "output_type": "stream",
     "text": [
      "Val Loss: 0.2782, Val Acc: 20.10\n",
      "Epoch 9 of 10\n",
      "Training\n"
     ]
    },
    {
     "name": "stderr",
     "output_type": "stream",
     "text": [
      "326it [20:38,  3.80s/it]                                                                                               \n"
     ]
    },
    {
     "name": "stdout",
     "output_type": "stream",
     "text": [
      "Train Loss: 0.2753, Train Acc: 23.63\n",
      "Validating\n"
     ]
    },
    {
     "name": "stderr",
     "output_type": "stream",
     "text": [
      "109it [01:41,  1.07it/s]                                                                                               \n"
     ]
    },
    {
     "name": "stdout",
     "output_type": "stream",
     "text": [
      "Val Loss: 0.2761, Val Acc: 23.44\n",
      "Epoch 10 of 10\n",
      "Training\n"
     ]
    },
    {
     "name": "stderr",
     "output_type": "stream",
     "text": [
      "326it [20:38,  3.80s/it]                                                                                               \n"
     ]
    },
    {
     "name": "stdout",
     "output_type": "stream",
     "text": [
      "Train Loss: 0.2749, Train Acc: 24.36\n",
      "Validating\n"
     ]
    },
    {
     "name": "stderr",
     "output_type": "stream",
     "text": [
      "109it [02:12,  1.22s/it]                                                                                               \n"
     ]
    },
    {
     "name": "stdout",
     "output_type": "stream",
     "text": [
      "Val Loss: 0.2760, Val Acc: 23.68\n",
      "223.88431073824566 minutes\n",
      "lr:  0.001\n",
      "weight decay: 1e-05\n",
      "Epoch 1 of 10\n",
      "Training\n"
     ]
    },
    {
     "name": "stderr",
     "output_type": "stream",
     "text": [
      "  9%|██████▉                                                                          | 28/325 [01:40<17:46,  3.59s/it]\n",
      "\n",
      "KeyboardInterrupt\n",
      "\n"
     ]
    }
   ],
   "source": [
    "# optimizer = optim.Adam(model.parameters(), lr=1e-4)\n",
    "# optimizer = optim.SGD(model.parameters(), lr=1e-4,momentum=0.9,weight_decay=1e-5)\n",
    "\n",
    "lr= [1e-2,1e-3, 1e-4]\n",
    "weight_decay= [1e-3, 1e-4,1e-5]\n",
    "all_train_loss=[]\n",
    "all_val_loss=[]\n",
    "all_train_acc=[]\n",
    "all_val_acc=[]\n",
    "epochs=10\n",
    "for l in lr:\n",
    "    for w in weight_decay:\n",
    "        model = CNN().to(device)\n",
    "        print(\"lr: \",l)\n",
    "        print(\"weight decay:\",w)\n",
    "        optimizer = optim.SGD(model.parameters(), lr=l,momentum=0.9,weight_decay=w)\n",
    "        train_loss , train_accuracy = [], []\n",
    "        val_loss , val_accuracy = [], []\n",
    "        start = time.time()\n",
    "        for epoch in range(epochs):\n",
    "            print(f\"Epoch {epoch+1} of {epochs}\")\n",
    "            train_epoch_loss, train_epoch_accuracy = fit(model, trainloader)\n",
    "            val_epoch_loss, val_epoch_accuracy = validate(model, valloader)\n",
    "            train_loss.append(train_epoch_loss)\n",
    "            train_accuracy.append(train_epoch_accuracy)\n",
    "            val_loss.append(val_epoch_loss)\n",
    "            val_accuracy.append(val_epoch_accuracy)\n",
    "        all_train_loss.append(train_loss)\n",
    "        all_val_loss.append(val_loss)\n",
    "        all_train_acc.append(train_accuracy)\n",
    "        all_val_acc.append(val_accuracy)\n",
    "        end = time.time()\n",
    "        \n",
    "        print((end-start)/60, 'minutes')"
   ]
  },
  {
   "cell_type": "code",
   "execution_count": 8,
   "metadata": {},
   "outputs": [
    {
     "name": "stdout",
     "output_type": "stream",
     "text": [
      "5\n"
     ]
    }
   ],
   "source": [
    "# print(all_train_loss)\n",
    "# print(all_val_loss)\n",
    "# print(all_train_acc)\n",
    "# print(all_val_acc)\n",
    "all_train_loss=[[0.28483618837955704, 0.284186564948442, 0.2842393976810686, 0.2842129699091403, 0.2842393295222126, 0.28418594812911707, 0.2834732944294309, 0.27960140098183345, 0.2804134143532525, 0.28133135354942596], [0.28467892226293384, 0.28421298200184053, 0.2842393988720164, 0.2842393988720164, 0.28421298200184053, 0.28421298200184053, 0.28421298200184053, 0.2842393988720164, 0.2842393988720164, 0.2842393988720164], [0.2826241233048819, 0.2843113482399243, 0.2842849150629254, 0.2842848945419795, 0.28431128282940926, 0.28431124462746976, 0.2842847725156405, 0.2843111061110849, 0.28428456400817226, 0.2843107381998405], [0.2844887345943396, 0.2796715205959353, 0.2791536375150213, 0.2788290850138229, 0.27865480739948956, 0.27860123893598543, 0.27742132128258373, 0.2746503021027696, 0.27442383468437376, 0.2744037124311317], [0.2861665730288576, 0.27981104424776193, 0.279521765786793, 0.27921934668314674, 0.27910458292672546, 0.277885390473145, 0.27568781501850637, 0.2753768306186174, 0.27531619809431945, 0.2749207338155404]]\n",
    "all_val_loss=[[0.2850730726795812, 0.2850730724049054, 0.28507306938347177, 0.28507304631070607, 0.2850369176556987, 0.2850711941719055, 0.2806161392119623, 0.2806958276005934, 0.28119188162588304, 0.2804736731239178], [0.2850370703754337, 0.2850370703754337, 0.2850010680712862, 0.2850010680712862, 0.2850370703754337, 0.2850370703754337, 0.2850370703754337, 0.2850370703754337, 0.2850370703754337, 0.2850730726795812], [0.28503681272954984, 0.2850367814165107, 0.2850367415885222, 0.285036697640397, 0.28496465842295354, 0.2850365883194356, 0.28507254173129387, 0.2850365364057128, 0.28507268044256395, 0.2850372901160596], [0.28171419960013183, 0.28011970173928047, 0.27978018269560856, 0.2795928420009701, 0.27970728813777873, 0.27961880298254127, 0.2760757411130562, 0.27619152162481564, 0.2756736729002219, 0.275763873680396], [0.28178794977302374, 0.2804008313038382, 0.2801555060021888, 0.28012336893565093, 0.2802825405301037, 0.2772169854783792, 0.2768246580928152, 0.2781914332495307, 0.2760677708458791, 0.2760315427582385]]\n",
    "all_train_acc=[[9.20268972142171, 9.394812680115274, 9.394812680115274, 9.394812680115274, 9.394812680115274, 9.394812680115274, 10.566762728146013, 16.753121998078772, 15.42747358309318, 14.024975984630164], [9.317963496637848, 9.394812680115274, 9.394812680115274, 9.394812680115274, 9.394812680115274, 9.394812680115274, 9.394812680115274, 9.394812680115274, 9.394812680115274, 9.394812680115274], [12.142170989433238, 9.279538904899136, 9.279538904899136, 9.279538904899136, 9.279538904899136, 9.279538904899136, 9.279538904899136, 9.279538904899136, 9.279538904899136, 9.279538904899136], [10.816522574447646, 16.618635926993274, 17.617675312199808, 18.001921229586937, 18.328530259365994, 18.443804034582133, 20.42267050912584, 24.78386167146974, 25.033621517771373, 25.187319884726225], [10.547550432276656, 16.522574447646495, 16.96445725264169, 17.271853986551392, 17.50240153698367, 19.673390970220943, 23.246878001921228, 23.707973102785783, 23.631123919308358, 24.3611911623439]]\n",
    "all_val_acc=[[9.216589861751151, 9.216589861751151, 9.216589861751151, 9.216589861751151, 9.216589861751151, 9.216589861751151, 16.41705069124424, 16.129032258064516, 15.380184331797235, 16.41705069124424], [9.216589861751151, 9.216589861751151, 9.216589861751151, 9.216589861751151, 9.216589861751151, 9.216589861751151, 9.216589861751151, 9.216589861751151, 9.216589861751151, 9.216589861751151], [9.216589861751151, 9.216589861751151, 9.216589861751151, 9.216589861751151, 9.216589861751151, 9.216589861751151, 9.216589861751151, 9.216589861751151, 9.216589861751151, 9.216589861751151], [14.804147465437788, 17.28110599078341, 17.569124423963135, 17.9147465437788, 17.9147465437788, 17.972350230414747, 23.847926267281107, 23.329493087557605, 24.193548387096776, 23.90552995391705], [16.071428571428573, 16.647465437788018, 16.820276497695854, 17.05069124423963, 16.532258064516128, 21.658986175115206, 22.292626728110598, 20.1036866359447, 23.444700460829495, 23.67511520737327]]\n",
    "\n",
    "print(len(all_val_acc))"
   ]
  },
  {
   "cell_type": "code",
   "execution_count": null,
   "metadata": {},
   "outputs": [],
   "source": [
    "from matplotlib.pyplot import figure\n",
    "figure(figsize=(7,4))\n",
    "plt.plot(epoch_count,all_val_loss[0], 'b', label = \"lr=\"+str(lr[0]),linewidth = '1')\n",
    "plt.plot(epoch_count,all_val_loss[1], 'g', label = \"lr=\"+str(lr[1]), linewidth = '1')\n",
    "plt.plot(epoch_count,all_val_loss[2], 'r', label = \"lr=\"+str(lr[2]), linewidth = '1')\n",
    "plt.plot(epoch_count,all_val_loss[3], 'y', label = \"lr=\"+str(lr[3]), linewidth = '1')\n",
    "plt.title(\"Validation Loss per epoch\",fontsize=15)\n",
    "plt.xlabel(\"epochs\",fontsize=15)  \n",
    "plt.ylabel(\"val loss\",fontsize=15)\n",
    "plt.legend(fontsize=10)\n",
    "plt.show()\n",
    "\n",
    "figure(figsize=(7,4))\n",
    "plt.plot(epoch_count,all_train_loss[0], 'b', label = \"lr=\"+str(lr[0]),linewidth = '1')\n",
    "plt.plot(epoch_count,all_train_loss[1], 'g', label = \"lr=\"+str(lr[1]), linewidth = '1')\n",
    "plt.plot(epoch_count,all_train_loss[2], 'r', label = \"lr=\"+str(lr[2]), linewidth = '1')\n",
    "plt.plot(epoch_count,all_train_loss[3], 'y', label = \"lr=\"+str(lr[3]), linewidth = '1')\n",
    "plt.title(\"Training Loss per epoch\",fontsize=15)\n",
    "plt.xlabel(\"epochs\",fontsize=15)  \n",
    "plt.ylabel(\"Train loss\",fontsize=15)\n",
    "plt.legend(fontsize=10)\n",
    "plt.show()\n"
   ]
  },
  {
   "cell_type": "code",
   "execution_count": 12,
   "metadata": {},
   "outputs": [],
   "source": [
    "# Plotting the validation accuracies\n",
    "plt.figure(figsize=(10, 6))\n",
    "plt.scatter(lr, weight_decay, c=all_val_acc, cmap='viridis', s=100, alpha=0.75)\n",
    "plt.colorbar(label='Validation Accuracy')\n",
    "plt.xlabel('Learning Rate')\n",
    "plt.ylabel('weight decay')\n",
    "plt.title('Validation Accuracy for Different Hyperparameter Combinations')\n",
    "plt.xscale('log')  # Use logarithmic scale for learning rate (if applicable)\n",
    "plt.grid(True)\n",
    "plt.show()"
   ]
  },
  {
   "cell_type": "code",
   "execution_count": 24,
   "metadata": {},
   "outputs": [],
   "source": [
    "print(f\"Training on {len(train_data)} examples, validating on {len(val_data)} examples\")\n",
    "\n",
    "#validation function\n",
    "def validate(model, dataloader):\n",
    "    print('Validating')\n",
    "    model.eval()\n",
    "    val_running_loss = 0.0\n",
    "    val_running_correct = 0\n",
    "    with torch.no_grad():\n",
    "        for i, data in tqdm(enumerate(dataloader), total=int(len(val_data)/dataloader.batch_size)):\n",
    "            data, target = data[0].to(device), data[1].to(device)\n",
    "            outputs = model(data)\n",
    "            loss = criterion(outputs, torch.max(target, 1)[1])\n",
    "            \n",
    "            val_running_loss += loss.item()\n",
    "            _, preds = torch.max(outputs.data, 1)\n",
    "            val_running_correct += (preds == torch.max(target, 1)[1]).sum().item()\n",
    "        \n",
    "        val_loss = val_running_loss/len(dataloader.dataset)\n",
    "        val_accuracy = 100. * val_running_correct/len(dataloader.dataset)\n",
    "        print(f'Val Loss: {val_loss:.4f}, Val Acc: {val_accuracy:.2f}')\n",
    "        \n",
    "        return val_loss, val_accuracy\n",
    "\n",
    "# training function\n",
    "def fit(model, dataloader):\n",
    "    print('Training')\n",
    "    model.train()\n",
    "    train_running_loss = 0.0\n",
    "    train_running_correct = 0\n",
    "    for i, data in tqdm(enumerate(dataloader), total=int(len(train_data)/dataloader.batch_size)):\n",
    "        data, target = data[0].to(device), data[1].to(device)\n",
    "        optimizer.zero_grad()\n",
    "        outputs = model(data)\n",
    "        # print(outputs)\n",
    "        # print(torch.max(target, 1)[1])\n",
    "        loss = criterion(outputs, torch.max(target, 1)[1])\n",
    "        train_running_loss += loss.item()\n",
    "        _, preds = torch.max(outputs.data, 1)\n",
    "        train_running_correct += (preds == torch.max(target, 1)[1]).sum().item()\n",
    "        loss.backward()\n",
    "        optimizer.step()\n",
    "        \n",
    "    train_loss = train_running_loss/len(dataloader.dataset)\n",
    "    train_accuracy = 100. * train_running_correct/len(dataloader.dataset)\n",
    "    \n",
    "    print(f\"Train Loss: {train_loss:.4f}, Train Acc: {train_accuracy:.2f}\")\n",
    "    \n",
    "    return train_loss, train_accuracy\n",
    "\n",
    "epochs=15\n",
    "lr= 1e-3\n",
    "optimizer = optim.SGD(model.parameters(), lr=lr,momentum=0.9,weight_decay=1e-3)\n",
    "\n",
    "train_loss , train_accuracy = [], []\n",
    "val_loss , val_accuracy = [], []\n",
    "start = time.time()\n",
    "\n",
    "for epoch in range(epochs):\n",
    "    model = CNN_with_dropout().to(device)\n",
    "    print(f\"Epoch {epoch+1} of {epochs}\")\n",
    "    train_epoch_loss, train_epoch_accuracy = fit(model, trainloader)\n",
    "    val_epoch_loss, val_epoch_accuracy = validate(model, valloader)\n",
    "    train_loss.append(train_epoch_loss)\n",
    "    train_accuracy.append(train_epoch_accuracy)\n",
    "    val_loss.append(val_epoch_loss)\n",
    "    val_accuracy.append(val_epoch_accuracy)\n",
    "end = time.time()\n",
    "\n",
    "print((end-start)/60, 'minutes')"
   ]
  },
  {
   "cell_type": "code",
   "execution_count": 48,
   "metadata": {
    "colab": {
     "base_uri": "https://localhost:8080/",
     "height": 873
    },
    "id": "e9wUAs4y0RMG",
    "outputId": "26d5793e-6434-4b1b-88cb-a9340c3aa979"
   },
   "outputs": [
    {
     "data": {
      "image/png": "[encoded data removed]",
      "text/plain": [
       "<Figure size 1000x700 with 1 Axes>"
      ]
     },
     "metadata": {},
     "output_type": "display_data"
    },
    {
     "data": {
      "image/png": "[encoded data removed]",
      "text/plain": [
       "<Figure size 1000x700 with 1 Axes>"
      ]
     },
     "metadata": {},
     "output_type": "display_data"
    }
   ],
   "source": [
    "# accuracy plots\n",
    "plt.figure(figsize=(10, 7))\n",
    "plt.plot(train_accuracy, color='green', label='train accuracy')\n",
    "plt.plot(val_accuracy, color='blue', label='validataion accuracy')\n",
    "plt.xlabel('Epochs')\n",
    "plt.ylabel('Accuracy')\n",
    "plt.title(\"Train vs Validation Accuracy\",fontsize=15)\n",
    "plt.legend()\n",
    "plt.savefig('accuracy.png')\n",
    "plt.show()\n",
    "\n",
    "# loss plots\n",
    "plt.figure(figsize=(10, 7))\n",
    "plt.plot(train_loss, color='orange', label='train loss')\n",
    "plt.plot(val_loss, color='red', label='validataion loss')\n",
    "plt.xlabel('Epochs')\n",
    "plt.title(\"Train vs Validation Loss\",fontsize=15)\n",
    "plt.ylabel('Loss')\n",
    "plt.legend()\n",
    "plt.savefig('loss.png')\n",
    "plt.show()"
   ]
  },
  {
   "cell_type": "code",
   "execution_count": 31,
   "metadata": {
    "colab": {
     "base_uri": "https://localhost:8080/",
     "height": 108
    },
    "id": "i2UEnBMF0bq3",
    "outputId": "cc1d7feb-52ed-4b5a-849f-a216f94e3bb5"
   },
   "outputs": [
    {
     "name": "stdout",
     "output_type": "stream",
     "text": [
      "train_accuracy [67.9731027857829, 95.42747358309317, 98.6359269932757, 99.05859750240154, 99.11623439000961]\n",
      "train_loss [0.10178054747789898, 0.01916044969594788, 0.007349576540720737, 0.004059072654501076, 0.003637388816208907]\n",
      "val_accuracy [91.12903225806451, 94.47004608294931, 94.12442396313364, 94.98847926267281, 94.5852534562212]\n",
      "val_loss [0.0256937191658546, 0.014130488249971124, 0.015228944083955783, 0.012118467278102594, 0.01437430124362922]\n",
      "batch size 16\n",
      "epoch 5\n",
      "learnign rate 0.0001\n",
      "optimizer adam\n"
     ]
    },
    {
     "data": {
      "text/plain": [
       "['val_loss.pkl']"
      ]
     },
     "execution_count": 31,
     "metadata": {},
     "output_type": "execute_result"
    }
   ],
   "source": [
    "# print(\"train_accuracy\", train_accuracy)\n",
    "# print('train_loss',train_loss)\n",
    "# print('val_accuracy',val_accuracy)\n",
    "# print('val_loss',val_loss)\n",
    "# print(\"batch size\",16)\n",
    "# print(\"epoch\",epochs)\n",
    "# print(\"learnign rate\",1e-4)\n",
    "# print(\"optimizer\",\"adam\")\n",
    "\n",
    "# import joblib\n",
    "# joblib.dump(train_accuracy, 'train_accuracy.pkl')\n",
    "# joblib.dump(train_loss, 'train_loss.pkl')\n",
    "# joblib.dump(val_accuracy, 'val_accuracy.pkl')\n",
    "# joblib.dump(val_loss, 'val_loss.pkl')"
   ]
  },
  {
   "cell_type": "code",
   "execution_count": 28,
   "metadata": {},
   "outputs": [],
   "source": [
    "print(f\"Training on {len(train_data)} examples, validating on {len(val_data)} examples\")\n",
    "\n",
    "#validation function\n",
    "def validate(model, dataloader):\n",
    "    print('Validating')\n",
    "    model.eval()\n",
    "    val_running_loss = 0.0\n",
    "    val_running_correct = 0\n",
    "    with torch.no_grad():\n",
    "        for i, data in tqdm(enumerate(dataloader), total=int(len(val_data)/dataloader.batch_size)):\n",
    "            data, target = data[0].to(device), data[1].to(device)\n",
    "            outputs = model(data)\n",
    "            loss = criterion(outputs, torch.max(target, 1)[1])\n",
    "            \n",
    "            val_running_loss += loss.item()\n",
    "            _, preds = torch.max(outputs.data, 1)\n",
    "            val_running_correct += (preds == torch.max(target, 1)[1]).sum().item()\n",
    "        \n",
    "        val_loss = val_running_loss/len(dataloader.dataset)\n",
    "        val_accuracy = 100. * val_running_correct/len(dataloader.dataset)\n",
    "        print(f'Val Loss: {val_loss:.4f}, Val Acc: {val_accuracy:.2f}')\n",
    "        \n",
    "        return val_loss, val_accuracy\n",
    "\n",
    "# training function\n",
    "def fit(model, dataloader):\n",
    "    print('Training')\n",
    "    model.train()\n",
    "    train_running_loss = 0.0\n",
    "    train_running_correct = 0\n",
    "    for i, data in tqdm(enumerate(dataloader), total=int(len(train_data)/dataloader.batch_size)):\n",
    "        data, target = data[0].to(device), data[1].to(device)\n",
    "        optimizer.zero_grad()\n",
    "        outputs = model(data)\n",
    "        # print(outputs)\n",
    "        # print(torch.max(target, 1)[1])\n",
    "        loss = criterion(outputs, torch.max(target, 1)[1])\n",
    "        train_running_loss += loss.item()\n",
    "        _, preds = torch.max(outputs.data, 1)\n",
    "        train_running_correct += (preds == torch.max(target, 1)[1]).sum().item()\n",
    "        loss.backward()\n",
    "        optimizer.step()\n",
    "        \n",
    "    train_loss = train_running_loss/len(dataloader.dataset)\n",
    "    train_accuracy = 100. * train_running_correct/len(dataloader.dataset)\n",
    "    \n",
    "    print(f\"Train Loss: {train_loss:.4f}, Train Acc: {train_accuracy:.2f}\")\n",
    "    \n",
    "    return train_loss, train_accuracy\n",
    "\n",
    "epochs=15\n",
    "lr= 1e-3\n",
    "optimizer = optim.SGD(model.parameters(), lr=lr,momentum=0.9,weight_decay=1e-3)\n",
    "\n",
    "train_loss , train_accuracy = [], []\n",
    "val_loss , val_accuracy = [], []\n",
    "start = time.time()\n",
    "\n",
    "for epoch in range(epochs):\n",
    "    model = ResNet34(pretrained=True).to(device)\n",
    "    print(f\"Epoch {epoch+1} of {epochs}\")\n",
    "    train_epoch_loss, train_epoch_accuracy = fit(model, trainloader)\n",
    "    val_epoch_loss, val_epoch_accuracy = validate(model, valloader)\n",
    "    train_loss.append(train_epoch_loss)\n",
    "    train_accuracy.append(train_epoch_accuracy)\n",
    "    val_loss.append(val_epoch_loss)\n",
    "    val_accuracy.append(val_epoch_accuracy)\n",
    "end = time.time()\n",
    "\n",
    "print((end-start)/60, 'minutes')"
   ]
  },
  {
   "cell_type": "code",
   "execution_count": 54,
   "metadata": {
    "colab": {
     "base_uri": "https://localhost:8080/",
     "height": 73
    },
    "id": "Q5H7V0rUPJfe",
    "outputId": "276f8ffb-a7ec-4660-d96c-78f7d3b24335"
   },
   "outputs": [
    {
     "name": "stdout",
     "output_type": "stream",
     "text": [
      "Accuracy of the network on test images: 95.565 %\n"
     ]
    }
   ],
   "source": [
    "correct = 0\n",
    "total = 0\n",
    "with torch.no_grad():\n",
    "    for data in testloader:\n",
    "        inputs, target = data[0].to(device, non_blocking=True), data[1].to(device, non_blocking=True)\n",
    "        outputs = model(inputs)\n",
    "        _, predicted = torch.max(outputs.data, 1)\n",
    "        total += target.size(0)\n",
    "        correct += (predicted == torch.max(target, 1)[1]).sum().item()\n",
    "\n",
    "print('Accuracy of the network on test images: %0.3f %%' % (\n",
    "    100 * correct / total))"
   ]
  },
  {
   "cell_type": "code",
   "execution_count": null,
   "metadata": {
    "id": "pJ4GZLtNYFO6"
   },
   "outputs": [],
   "source": []
  }
 ],
 "metadata": {
  "accelerator": "GPU",
  "colab": {
   "provenance": []
  },
  "kernelspec": {
   "display_name": "Python 3 (ipykernel)",
   "language": "python",
   "name": "python3"
  },
  "language_info": {
   "codemirror_mode": {
    "name": "ipython",
    "version": 3
   },
   "file_extension": ".py",
   "mimetype": "text/x-python",
   "name": "python",
   "nbconvert_exporter": "python",
   "pygments_lexer": "ipython3",
   "version": "3.11.0"
  }
 },
 "nbformat": 4,
 "nbformat_minor": 4
}
